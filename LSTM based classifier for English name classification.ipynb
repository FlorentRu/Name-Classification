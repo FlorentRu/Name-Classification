{
 "cells": [
  {
   "cell_type": "code",
   "execution_count": 1,
   "id": "4c66c40e",
   "metadata": {
    "scrolled": true
   },
   "outputs": [
    {
     "name": "stderr",
     "output_type": "stream",
     "text": [
      "[nltk_data] Downloading package names to\n",
      "[nltk_data]     C:\\Users\\flore\\AppData\\Roaming\\nltk_data...\n",
      "[nltk_data]   Package names is already up-to-date!\n"
     ]
    },
    {
     "name": "stdout",
     "output_type": "stream",
     "text": [
      "Epoch 1 completed.\n",
      "Epoch 2 completed.\n",
      "Epoch 3 completed.\n",
      "Epoch 4 completed.\n",
      "Epoch 5 completed.\n",
      "The name Jean is classified as Female\n"
     ]
    }
   ],
   "source": [
    "import torch\n",
    "import torch.nn as nn\n",
    "import torch.optim as optim\n",
    "import numpy as np\n",
    "import nltk\n",
    "\n",
    "# Let's prepare data\n",
    "nltk.download('names')\n",
    "from nltk.corpus import names\n",
    "\n",
    "male_names = names.words('male.txt')\n",
    "female_names = names.words('female.txt')\n",
    "\n",
    "# Let's merge the datasets and create labels\n",
    "data = [(name.lower(), 0) for name in male_names] + [(name.lower(), 1) for name in female_names]\n",
    "\n",
    "np.random.shuffle(data) # Shuffle the data\n",
    "\n",
    "# Tokenization and Encoding\n",
    "all_letters = \"abcdefghijklmnopqrstuvwxyz\"\n",
    "n_letters = len(all_letters)\n",
    "\n",
    "def name_to_tensor(name):\n",
    "    tensor = torch.zeros(len(name), 1, n_letters)\n",
    "    for i, letter in enumerate(name):\n",
    "        tensor[i][0][all_letters.find(letter)] = 1\n",
    "    return tensor\n",
    "\n",
    "# Model Architecture\n",
    "class LSTMClassifier(nn.Module):\n",
    "    def __init__(self, input_size, hidden_size, output_size):\n",
    "        super(LSTMClassifier, self).__init__()\n",
    "        self.hidden_size = hidden_size\n",
    "        self.lstm = nn.LSTM(input_size, hidden_size)\n",
    "        self.fc = nn.Linear(hidden_size, output_size)\n",
    "    \n",
    "    def forward(self, input):\n",
    "        lstm_out, _ = self.lstm(input)\n",
    "        output = self.fc(lstm_out[-1])\n",
    "        return output\n",
    "\n",
    "# Training\n",
    "model = LSTMClassifier(n_letters, 128, 2)\n",
    "criterion = nn.CrossEntropyLoss()\n",
    "optimizer = optim.Adam(model.parameters(), lr=0.001)\n",
    "\n",
    "def train(data):\n",
    "    for name, label in data:\n",
    "        input_tensor = name_to_tensor(name)\n",
    "        target = torch.tensor([label], dtype=torch.long)\n",
    "        \n",
    "        optimizer.zero_grad()\n",
    "        \n",
    "        output = model(input_tensor)\n",
    "        loss = criterion(output, target)\n",
    "        loss.backward()\n",
    "        optimizer.step()\n",
    "\n",
    "# Training loop\n",
    "for epoch in range(5):\n",
    "    train(data)\n",
    "    print(f\"Epoch {epoch+1} completed.\")\n",
    "\n",
    "# Inference\n",
    "def predict(name, model):\n",
    "    with torch.no_grad():\n",
    "        input_tensor = name_to_tensor(name.lower())\n",
    "        output = model(input_tensor)\n",
    "        _, predicted = torch.max(output, 1)\n",
    "        if predicted.item() == 0:\n",
    "            return \"Male\"\n",
    "        else:\n",
    "            return \"Female\"\n",
    "\n",
    "# Let's pick a random English name as an example usage\n",
    "name_to_classify = \"Jean\"\n",
    "print(f\"The name {name_to_classify} is classified as {predict(name_to_classify, model)}\")"
   ]
  }
 ],
 "metadata": {
  "kernelspec": {
   "display_name": "Python 3 (ipykernel)",
   "language": "python",
   "name": "python3"
  },
  "language_info": {
   "codemirror_mode": {
    "name": "ipython",
    "version": 3
   },
   "file_extension": ".py",
   "mimetype": "text/x-python",
   "name": "python",
   "nbconvert_exporter": "python",
   "pygments_lexer": "ipython3",
   "version": "3.11.5"
  }
 },
 "nbformat": 4,
 "nbformat_minor": 5
}
